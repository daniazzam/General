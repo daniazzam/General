{
  "nbformat": 4,
  "nbformat_minor": 0,
  "metadata": {
    "colab": {
      "name": "Diabetes_Dataset_ML.ipynb",
      "provenance": [],
      "authorship_tag": "ABX9TyNmwX4lL1hFnkuhxAzuVKRm",
      "include_colab_link": true
    },
    "kernelspec": {
      "name": "python3",
      "display_name": "Python 3"
    },
    "language_info": {
      "name": "python"
    }
  },
  "cells": [
    {
      "cell_type": "markdown",
      "metadata": {
        "id": "view-in-github",
        "colab_type": "text"
      },
      "source": [
        "<a href=\"https://colab.research.google.com/github/daniazzam/General/blob/main/Diabetes_Dataset_ML.ipynb\" target=\"_parent\"><img src=\"https://colab.research.google.com/assets/colab-badge.svg\" alt=\"Open In Colab\"/></a>"
      ]
    },
    {
      "cell_type": "markdown",
      "source": [
        "ANN: PART 1: DATA PROCESSING"
      ],
      "metadata": {
        "id": "a-W1wwFe7NKs"
      }
    },
    {
      "cell_type": "code",
      "execution_count": null,
      "metadata": {
        "id": "Vtln1Hsh6sL_"
      },
      "outputs": [],
      "source": [
        "import numpy as np\n",
        "import pandas as pd\n",
        "import tensorflow as tf\n",
        "tf.keras.backend.clear_session()"
      ]
    },
    {
      "cell_type": "code",
      "source": [
        "dataset=pd.read_csv('diabetes_dataset.csv')\n",
        "\n",
        "#the dataset contains values of 0 where it is an impossible case\n",
        "#in glucose, bloodpressure, skinthickness, insulin and bmi levels\n",
        "#however, 0 pregrancies is possible\n",
        "#We will replace values of 0 with the mean value\n",
        "\n",
        "dataset_copy = dataset.copy()\n",
        "\n",
        "cols_head = ['Glucose','BloodPressure','SkinThickness','Insulin','BMI']\n",
        "\n",
        "for i in cols_head:\n",
        "    dataset_copy[i].replace(0,dataset_copy[i].mean(),inplace=True)\n",
        "\n",
        "print(dataset.head())\n",
        "print(dataset_copy.head())\n",
        "\n",
        "X=dataset_copy.iloc[:,0:-1].values\n",
        "Y=dataset_copy.iloc[:,-1].values"
      ],
      "metadata": {
        "id": "K0zAJ6DE7XSz",
        "colab": {
          "base_uri": "https://localhost:8080/"
        },
        "outputId": "a6a66ff4-cf9b-4669-9f0b-1c2409014494"
      },
      "execution_count": null,
      "outputs": [
        {
          "output_type": "stream",
          "name": "stdout",
          "text": [
            "   Pregnancies  Glucose  BloodPressure  SkinThickness  Insulin   BMI  \\\n",
            "0            6      148             72             35        0  33.6   \n",
            "1            1       85             66             29        0  26.6   \n",
            "2            8      183             64              0        0  23.3   \n",
            "3            1       89             66             23       94  28.1   \n",
            "4            0      137             40             35      168  43.1   \n",
            "\n",
            "   DiabetesPedigreeFunction  Age  Outcome  \n",
            "0                     0.627   50        1  \n",
            "1                     0.351   31        0  \n",
            "2                     0.672   32        1  \n",
            "3                     0.167   21        0  \n",
            "4                     2.288   33        1  \n",
            "   Pregnancies  Glucose  BloodPressure  SkinThickness     Insulin   BMI  \\\n",
            "0            6    148.0           72.0      35.000000   79.799479  33.6   \n",
            "1            1     85.0           66.0      29.000000   79.799479  26.6   \n",
            "2            8    183.0           64.0      20.536458   79.799479  23.3   \n",
            "3            1     89.0           66.0      23.000000   94.000000  28.1   \n",
            "4            0    137.0           40.0      35.000000  168.000000  43.1   \n",
            "\n",
            "   DiabetesPedigreeFunction  Age  Outcome  \n",
            "0                     0.627   50        1  \n",
            "1                     0.351   31        0  \n",
            "2                     0.672   32        1  \n",
            "3                     0.167   21        0  \n",
            "4                     2.288   33        1  \n"
          ]
        }
      ]
    },
    {
      "cell_type": "code",
      "source": [
        "from sklearn.model_selection import train_test_split\n",
        "X_train, X_test, Y_train, Y_test = train_test_split(X,Y, test_size=0.25,random_state=0)"
      ],
      "metadata": {
        "id": "7COir0x8BQqh"
      },
      "execution_count": null,
      "outputs": []
    },
    {
      "cell_type": "code",
      "source": [
        "from sklearn.preprocessing import StandardScaler\n",
        "sc = StandardScaler()\n",
        "X_train = sc.fit_transform(X_train)\n",
        "X_test  = sc.transform(X_test)"
      ],
      "metadata": {
        "id": "QlBdkDpWBeLt"
      },
      "execution_count": null,
      "outputs": []
    },
    {
      "cell_type": "markdown",
      "source": [
        "Building the ANN"
      ],
      "metadata": {
        "id": "3q7aUzEfoEsE"
      }
    },
    {
      "cell_type": "code",
      "source": [
        "#initialize ANN\n",
        "ann=tf.keras.models.Sequential()\n",
        "\n",
        "#first hidden layer\n",
        "ann.add(tf.keras.layers.Dense(units=9,activation='relu'))\n",
        "#second hidden layer\n",
        "ann.add(tf.keras.layers.Dense(units=7,activation='relu'))\n",
        "#output layer\n",
        "ann.add(tf.keras.layers.Dense(units=1,activation='sigmoid'))"
      ],
      "metadata": {
        "id": "xBB9i07SoHr9"
      },
      "execution_count": null,
      "outputs": []
    },
    {
      "cell_type": "markdown",
      "source": [
        "Training the ANN"
      ],
      "metadata": {
        "id": "cWfMnfNTZvl2"
      }
    },
    {
      "cell_type": "code",
      "source": [
        "#compile the ANN\n",
        "ann.compile(optimizer='adam',loss='binary_crossentropy',metrics=['accuracy'])\n",
        "\n",
        "#traning the ANN on traning set\n",
        "ann.fit(X_train,Y_train,batch_size=32,epochs=150)"
      ],
      "metadata": {
        "colab": {
          "base_uri": "https://localhost:8080/"
        },
        "id": "TaIt4zdMYU3F",
        "outputId": "c4ba2796-0edc-4e9e-9e2f-6e68bfc846fa"
      },
      "execution_count": null,
      "outputs": [
        {
          "output_type": "stream",
          "name": "stdout",
          "text": [
            "Epoch 1/50\n",
            "18/18 [==============================] - 1s 4ms/step - loss: 0.4165 - accuracy: 0.8056\n",
            "Epoch 2/50\n",
            "18/18 [==============================] - 0s 3ms/step - loss: 0.4155 - accuracy: 0.8056\n",
            "Epoch 3/50\n",
            "18/18 [==============================] - 0s 3ms/step - loss: 0.4152 - accuracy: 0.8056\n",
            "Epoch 4/50\n",
            "18/18 [==============================] - 0s 3ms/step - loss: 0.4149 - accuracy: 0.8056\n",
            "Epoch 5/50\n",
            "18/18 [==============================] - 0s 4ms/step - loss: 0.4146 - accuracy: 0.8056\n",
            "Epoch 6/50\n",
            "18/18 [==============================] - 0s 4ms/step - loss: 0.4142 - accuracy: 0.8056\n",
            "Epoch 7/50\n",
            "18/18 [==============================] - 0s 3ms/step - loss: 0.4139 - accuracy: 0.8038\n",
            "Epoch 8/50\n",
            "18/18 [==============================] - 0s 3ms/step - loss: 0.4138 - accuracy: 0.8073\n",
            "Epoch 9/50\n",
            "18/18 [==============================] - 0s 2ms/step - loss: 0.4139 - accuracy: 0.8073\n",
            "Epoch 10/50\n",
            "18/18 [==============================] - 0s 5ms/step - loss: 0.4131 - accuracy: 0.8056\n",
            "Epoch 11/50\n",
            "18/18 [==============================] - 0s 3ms/step - loss: 0.4132 - accuracy: 0.8056\n",
            "Epoch 12/50\n",
            "18/18 [==============================] - 0s 3ms/step - loss: 0.4129 - accuracy: 0.8090\n",
            "Epoch 13/50\n",
            "18/18 [==============================] - 0s 6ms/step - loss: 0.4124 - accuracy: 0.8056\n",
            "Epoch 14/50\n",
            "18/18 [==============================] - 0s 7ms/step - loss: 0.4119 - accuracy: 0.8073\n",
            "Epoch 15/50\n",
            "18/18 [==============================] - 0s 7ms/step - loss: 0.4121 - accuracy: 0.8038\n",
            "Epoch 16/50\n",
            "18/18 [==============================] - 0s 6ms/step - loss: 0.4116 - accuracy: 0.8125\n",
            "Epoch 17/50\n",
            "18/18 [==============================] - 0s 5ms/step - loss: 0.4110 - accuracy: 0.8108\n",
            "Epoch 18/50\n",
            "18/18 [==============================] - 0s 5ms/step - loss: 0.4108 - accuracy: 0.8142\n",
            "Epoch 19/50\n",
            "18/18 [==============================] - 0s 4ms/step - loss: 0.4108 - accuracy: 0.8125\n",
            "Epoch 20/50\n",
            "18/18 [==============================] - 0s 2ms/step - loss: 0.4107 - accuracy: 0.8108\n",
            "Epoch 21/50\n",
            "18/18 [==============================] - 0s 2ms/step - loss: 0.4102 - accuracy: 0.8125\n",
            "Epoch 22/50\n",
            "18/18 [==============================] - 0s 2ms/step - loss: 0.4096 - accuracy: 0.8142\n",
            "Epoch 23/50\n",
            "18/18 [==============================] - 0s 2ms/step - loss: 0.4097 - accuracy: 0.8108\n",
            "Epoch 24/50\n",
            "18/18 [==============================] - 0s 2ms/step - loss: 0.4096 - accuracy: 0.8108\n",
            "Epoch 25/50\n",
            "18/18 [==============================] - 0s 2ms/step - loss: 0.4089 - accuracy: 0.8142\n",
            "Epoch 26/50\n",
            "18/18 [==============================] - 0s 2ms/step - loss: 0.4086 - accuracy: 0.8125\n",
            "Epoch 27/50\n",
            "18/18 [==============================] - 0s 2ms/step - loss: 0.4086 - accuracy: 0.8125\n",
            "Epoch 28/50\n",
            "18/18 [==============================] - 0s 2ms/step - loss: 0.4089 - accuracy: 0.8108\n",
            "Epoch 29/50\n",
            "18/18 [==============================] - 0s 2ms/step - loss: 0.4081 - accuracy: 0.8142\n",
            "Epoch 30/50\n",
            "18/18 [==============================] - 0s 2ms/step - loss: 0.4081 - accuracy: 0.8125\n",
            "Epoch 31/50\n",
            "18/18 [==============================] - 0s 2ms/step - loss: 0.4078 - accuracy: 0.8108\n",
            "Epoch 32/50\n",
            "18/18 [==============================] - 0s 2ms/step - loss: 0.4074 - accuracy: 0.8125\n",
            "Epoch 33/50\n",
            "18/18 [==============================] - 0s 2ms/step - loss: 0.4073 - accuracy: 0.8142\n",
            "Epoch 34/50\n",
            "18/18 [==============================] - 0s 2ms/step - loss: 0.4075 - accuracy: 0.8125\n",
            "Epoch 35/50\n",
            "18/18 [==============================] - 0s 2ms/step - loss: 0.4070 - accuracy: 0.8125\n",
            "Epoch 36/50\n",
            "18/18 [==============================] - 0s 2ms/step - loss: 0.4068 - accuracy: 0.8142\n",
            "Epoch 37/50\n",
            "18/18 [==============================] - 0s 2ms/step - loss: 0.4069 - accuracy: 0.8125\n",
            "Epoch 38/50\n",
            "18/18 [==============================] - 0s 2ms/step - loss: 0.4060 - accuracy: 0.8142\n",
            "Epoch 39/50\n",
            "18/18 [==============================] - 0s 2ms/step - loss: 0.4061 - accuracy: 0.8108\n",
            "Epoch 40/50\n",
            "18/18 [==============================] - 0s 2ms/step - loss: 0.4060 - accuracy: 0.8125\n",
            "Epoch 41/50\n",
            "18/18 [==============================] - 0s 2ms/step - loss: 0.4055 - accuracy: 0.8142\n",
            "Epoch 42/50\n",
            "18/18 [==============================] - 0s 2ms/step - loss: 0.4054 - accuracy: 0.8177\n",
            "Epoch 43/50\n",
            "18/18 [==============================] - 0s 2ms/step - loss: 0.4060 - accuracy: 0.8142\n",
            "Epoch 44/50\n",
            "18/18 [==============================] - 0s 2ms/step - loss: 0.4048 - accuracy: 0.8177\n",
            "Epoch 45/50\n",
            "18/18 [==============================] - 0s 2ms/step - loss: 0.4049 - accuracy: 0.8142\n",
            "Epoch 46/50\n",
            "18/18 [==============================] - 0s 2ms/step - loss: 0.4048 - accuracy: 0.8142\n",
            "Epoch 47/50\n",
            "18/18 [==============================] - 0s 2ms/step - loss: 0.4044 - accuracy: 0.8142\n",
            "Epoch 48/50\n",
            "18/18 [==============================] - 0s 2ms/step - loss: 0.4044 - accuracy: 0.8160\n",
            "Epoch 49/50\n",
            "18/18 [==============================] - 0s 2ms/step - loss: 0.4044 - accuracy: 0.8160\n",
            "Epoch 50/50\n",
            "18/18 [==============================] - 0s 2ms/step - loss: 0.4037 - accuracy: 0.8142\n"
          ]
        },
        {
          "output_type": "execute_result",
          "data": {
            "text/plain": [
              "<keras.callbacks.History at 0x7f0608bf7690>"
            ]
          },
          "metadata": {},
          "execution_count": 7
        }
      ]
    },
    {
      "cell_type": "code",
      "source": [
        "n=ann.predict(sc.transform([[6,111,64,39,93,35,0.3,25]]))\n",
        "print(n)\n",
        "print(n>0.5)"
      ],
      "metadata": {
        "colab": {
          "base_uri": "https://localhost:8080/"
        },
        "id": "LKv8xj04cndb",
        "outputId": "25d118c6-997c-4fb6-c3b4-90bcc713bf87"
      },
      "execution_count": null,
      "outputs": [
        {
          "output_type": "stream",
          "name": "stdout",
          "text": [
            "[[0.21945772]]\n",
            "[[False]]\n"
          ]
        }
      ]
    },
    {
      "cell_type": "code",
      "source": [
        "#pridicting test set results\n",
        "y_predict=ann.predict(X_test)\n",
        "y_predict=(y_predict>0.5)\n",
        "\n",
        "print(np.concatenate((y_predict.reshape(len(y_predict),1), Y_test.reshape(len(Y_test),1)),1))\n",
        "\n",
        "import matplotlib.pyplot as plot\n",
        "\n",
        "x=np.arange(0,len(y_predict),1)\n",
        "plot.scatter(x, y_predict, color = 'red')\n",
        "plot.scatter(x, Y_test, color = 'blue')\n",
        "plot.title('Y_test vs y_predict')\n",
        "plot.show()\n"
      ],
      "metadata": {
        "colab": {
          "base_uri": "https://localhost:8080/",
          "height": 1000
        },
        "id": "NcSdBm7mebt0",
        "outputId": "04a77fbd-4666-416a-bacf-3f956846f023"
      },
      "execution_count": null,
      "outputs": [
        {
          "output_type": "stream",
          "name": "stdout",
          "text": [
            "[[1 1]\n",
            " [0 0]\n",
            " [0 0]\n",
            " [1 1]\n",
            " [0 0]\n",
            " [0 0]\n",
            " [1 1]\n",
            " [1 1]\n",
            " [0 0]\n",
            " [0 0]\n",
            " [1 1]\n",
            " [1 1]\n",
            " [0 0]\n",
            " [0 0]\n",
            " [0 0]\n",
            " [0 0]\n",
            " [1 1]\n",
            " [0 0]\n",
            " [0 0]\n",
            " [0 0]\n",
            " [1 1]\n",
            " [0 1]\n",
            " [0 0]\n",
            " [0 0]\n",
            " [0 0]\n",
            " [1 0]\n",
            " [0 0]\n",
            " [1 0]\n",
            " [0 0]\n",
            " [0 0]\n",
            " [0 0]\n",
            " [1 0]\n",
            " [0 0]\n",
            " [1 0]\n",
            " [0 0]\n",
            " [1 1]\n",
            " [0 1]\n",
            " [0 0]\n",
            " [1 0]\n",
            " [1 0]\n",
            " [0 0]\n",
            " [0 0]\n",
            " [0 0]\n",
            " [1 1]\n",
            " [1 1]\n",
            " [0 0]\n",
            " [0 0]\n",
            " [0 1]\n",
            " [1 1]\n",
            " [0 1]\n",
            " [0 0]\n",
            " [0 0]\n",
            " [1 1]\n",
            " [0 0]\n",
            " [0 0]\n",
            " [0 0]\n",
            " [0 0]\n",
            " [0 1]\n",
            " [0 1]\n",
            " [0 1]\n",
            " [1 1]\n",
            " [1 0]\n",
            " [0 0]\n",
            " [1 1]\n",
            " [1 1]\n",
            " [1 1]\n",
            " [1 1]\n",
            " [0 0]\n",
            " [0 0]\n",
            " [0 0]\n",
            " [0 0]\n",
            " [0 0]\n",
            " [0 0]\n",
            " [1 0]\n",
            " [1 1]\n",
            " [0 0]\n",
            " [0 0]\n",
            " [1 0]\n",
            " [0 0]\n",
            " [0 0]\n",
            " [0 0]\n",
            " [1 0]\n",
            " [0 0]\n",
            " [0 0]\n",
            " [0 0]\n",
            " [0 0]\n",
            " [0 1]\n",
            " [0 0]\n",
            " [1 1]\n",
            " [0 0]\n",
            " [0 0]\n",
            " [0 0]\n",
            " [0 0]\n",
            " [0 0]\n",
            " [1 0]\n",
            " [0 0]\n",
            " [1 1]\n",
            " [1 0]\n",
            " [0 1]\n",
            " [0 1]\n",
            " [0 0]\n",
            " [0 0]\n",
            " [0 0]\n",
            " [0 0]\n",
            " [1 0]\n",
            " [1 1]\n",
            " [0 0]\n",
            " [0 0]\n",
            " [0 0]\n",
            " [1 1]\n",
            " [0 0]\n",
            " [0 1]\n",
            " [1 1]\n",
            " [1 1]\n",
            " [1 1]\n",
            " [1 1]\n",
            " [0 0]\n",
            " [1 0]\n",
            " [0 0]\n",
            " [1 1]\n",
            " [0 0]\n",
            " [0 0]\n",
            " [0 0]\n",
            " [0 0]\n",
            " [0 0]\n",
            " [0 0]\n",
            " [0 0]\n",
            " [1 1]\n",
            " [0 0]\n",
            " [0 0]\n",
            " [0 0]\n",
            " [0 0]\n",
            " [0 0]\n",
            " [0 1]\n",
            " [0 0]\n",
            " [1 1]\n",
            " [0 0]\n",
            " [0 1]\n",
            " [1 1]\n",
            " [0 0]\n",
            " [0 0]\n",
            " [1 0]\n",
            " [0 0]\n",
            " [0 0]\n",
            " [0 1]\n",
            " [0 0]\n",
            " [0 0]\n",
            " [0 0]\n",
            " [0 0]\n",
            " [0 1]\n",
            " [0 0]\n",
            " [1 1]\n",
            " [0 0]\n",
            " [0 0]\n",
            " [1 1]\n",
            " [0 0]\n",
            " [0 0]\n",
            " [0 0]\n",
            " [0 1]\n",
            " [1 1]\n",
            " [1 1]\n",
            " [1 1]\n",
            " [0 0]\n",
            " [0 0]\n",
            " [1 0]\n",
            " [0 1]\n",
            " [0 0]\n",
            " [0 0]\n",
            " [0 0]\n",
            " [0 0]\n",
            " [0 0]\n",
            " [0 0]\n",
            " [0 1]\n",
            " [0 1]\n",
            " [1 0]\n",
            " [0 0]\n",
            " [0 0]\n",
            " [0 0]\n",
            " [0 0]\n",
            " [0 0]\n",
            " [0 1]\n",
            " [1 1]\n",
            " [0 0]\n",
            " [1 1]\n",
            " [1 1]\n",
            " [0 0]\n",
            " [0 1]\n",
            " [0 1]\n",
            " [1 1]\n",
            " [0 0]\n",
            " [0 0]\n",
            " [0 0]]\n"
          ]
        },
        {
          "output_type": "display_data",
          "data": {
            "text/plain": [
              "<Figure size 432x288 with 1 Axes>"
            ],
            "image/png": "[encoded data removed]"
          },
          "metadata": {
            "needs_background": "light"
          }
        }
      ]
    },
    {
      "cell_type": "code",
      "source": [
        "#confusion matrix\n",
        "from sklearn.metrics import confusion_matrix, accuracy_score\n",
        "cm = confusion_matrix(Y_test, y_predict)\n",
        "print('the confusion matrix')\n",
        "print(cm)\n",
        "print('the accuracy score is: '+str(accuracy_score(Y_test, y_predict)))"
      ],
      "metadata": {
        "colab": {
          "base_uri": "https://localhost:8080/"
        },
        "id": "FfZl0S9Cf_OS",
        "outputId": "8f794a61-f49c-43f3-a334-fab87feca685"
      },
      "execution_count": null,
      "outputs": [
        {
          "output_type": "stream",
          "name": "stdout",
          "text": [
            "the confusion matrix\n",
            "[[113  17]\n",
            " [ 22  40]]\n",
            "the accuracy score is: 0.796875\n"
          ]
        }
      ]
    }
  ]
}